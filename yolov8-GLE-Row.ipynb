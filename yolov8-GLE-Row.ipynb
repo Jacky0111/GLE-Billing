{
 "cells": [
  {
   "metadata": {},
   "cell_type": "markdown",
   "source": [
    "# 1 Installing the YOLOv8 Environment\n",
    "\n",
    "To start off with YOLOv8 we first clone the YOLOv8 repository and install dependencies. This will set up our programming environment to be ready to running object detection training and inference commands."
   ],
   "id": "591dd99cfd58f668"
  },
  {
   "metadata": {
    "ExecuteTime": {
     "end_time": "2024-07-25T06:49:13.040759Z",
     "start_time": "2024-07-25T06:49:12.971204Z"
    }
   },
   "cell_type": "code",
   "source": [
    "# Clone repository\n",
    "# !git clone https://github.com/ultralytics/ultralytics\n",
    "\n",
    "# Navigate to the cloned directory\n",
    "%cd ultralytics\n",
    "\n",
    "# Install the package in editable mode for development\n",
    "# !pip install -e ."
   ],
   "id": "7b12ce64269140ef",
   "outputs": [
    {
     "name": "stdout",
     "output_type": "stream",
     "text": [
      "C:\\Users\\CP1\\Desktop\\GLE-Billing\\ultralytics\n"
     ]
    }
   ],
   "execution_count": 1
  },
  {
   "metadata": {},
   "cell_type": "markdown",
   "source": "# 2 Import Libraries",
   "id": "2b88117662ff79d1"
  },
  {
   "metadata": {
    "jupyter": {
     "is_executing": true
    },
    "ExecuteTime": {
     "start_time": "2024-07-25T06:49:13.040759Z"
    }
   },
   "cell_type": "code",
   "source": [
    "import torch\n",
    "print('torch %s %s' % (torch.__version__, torch.cuda.get_device_properties(0) if torch.cuda.is_available() else 'CPU'))\n",
    "from ultralytics import YOLO\n",
    "\n",
    "import yaml\n",
    "import glob\n",
    "from IPython.display import Image, display\n",
    "from IPython.core.magic import register_line_cell_magic\n",
    "\n",
    "from DataAugmentation import DataAugmentation"
   ],
   "id": "dd18b057b6905212",
   "outputs": [],
   "execution_count": null
  },
  {
   "metadata": {
    "jupyter": {
     "is_executing": true
    }
   },
   "cell_type": "code",
   "source": [
    "%cd ..\n",
    "\n",
    "# Open and read the YAML file\n",
    "with open('configuration/Table/config-GLE-table.yaml', 'r') as file:\n",
    "    yaml_data = yaml.safe_load(file)\n",
    "\n",
    "yaml_data"
   ],
   "id": "a1153ba411327626",
   "outputs": [],
   "execution_count": null
  },
  {
   "metadata": {
    "jupyter": {
     "is_executing": true
    }
   },
   "cell_type": "code",
   "source": [
    "# Define number of classes based on YAML\n",
    "with open('configuration/Table/config-GLE-table.yaml', 'r') as stream:\n",
    "    num_classes = str(yaml.safe_load(stream)['nc'])\n",
    "\n",
    "print(f'Number of class: {num_classes}')"
   ],
   "id": "13e87d1747e8e67e",
   "outputs": [],
   "execution_count": null
  },
  {
   "metadata": {
    "jupyter": {
     "is_executing": true
    }
   },
   "cell_type": "code",
   "source": [
    "import os\n",
    "\n",
    "current_directory = os.getcwd()\n",
    "print(\"Current Directory:\", current_directory)"
   ],
   "id": "4de80d84b940039b",
   "outputs": [],
   "execution_count": null
  },
  {
   "metadata": {},
   "cell_type": "markdown",
   "source": "# 3 Train YOLOv8",
   "id": "89fa3c30e75fe825"
  },
  {
   "metadata": {},
   "cell_type": "code",
   "source": [
    "model = YOLO('yolov8s.pt')  # build a new model from scratch\n",
    "\n",
    "results = model.train(data='Table/config-GLE-table.yaml', epochs=1000, workers=1, imgsz=416)  # train the model"
   ],
   "id": "ea1ca57d97a5e91b",
   "outputs": [],
   "execution_count": null
  },
  {
   "metadata": {},
   "cell_type": "code",
   "outputs": [],
   "execution_count": null,
   "source": "",
   "id": "8ce6b4797417340"
  }
 ],
 "metadata": {
  "kernelspec": {
   "display_name": "Python 3",
   "language": "python",
   "name": "python3"
  },
  "language_info": {
   "codemirror_mode": {
    "name": "ipython",
    "version": 2
   },
   "file_extension": ".py",
   "mimetype": "text/x-python",
   "name": "python",
   "nbconvert_exporter": "python",
   "pygments_lexer": "ipython2",
   "version": "2.7.6"
  }
 },
 "nbformat": 4,
 "nbformat_minor": 5
}
