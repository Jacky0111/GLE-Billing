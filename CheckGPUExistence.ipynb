{
 "cells": [
  {
   "cell_type": "markdown",
   "metadata": {
    "collapsed": false
   },
   "source": [
    "# Check GPU Existence"
   ]
  },
  {
   "cell_type": "code",
   "source": [
    "import torch\n",
    "\n",
    "print(f'Pytorch version: {torch.__version__}')"
   ],
   "metadata": {
    "collapsed": false,
    "ExecuteTime": {
     "end_time": "2024-07-22T07:55:16.004463Z",
     "start_time": "2024-07-22T07:54:34.319412Z"
    }
   },
   "outputs": [
    {
     "name": "stdout",
     "output_type": "stream",
     "text": [
      "Pytorch version: 1.13.1+cu116\n"
     ]
    }
   ],
   "execution_count": 3
  },
  {
   "cell_type": "code",
   "metadata": {
    "collapsed": false,
    "ExecuteTime": {
     "end_time": "2024-07-22T07:55:50.074771Z",
     "start_time": "2024-07-22T07:55:48.886469Z"
    }
   },
   "source": [
    "if torch.cuda.is_available():\n",
    "    device = torch.device(\"cuda\")  # Use the GPU\n",
    "    print(\"CUDA is available. You have an NVIDIA GPU.\")\n",
    "else:\n",
    "    device = torch.device(\"cpu\")   # Use the CPU\n",
    "    print(\"CUDA is not available. Falling back to CPU.\")"
   ],
   "outputs": [
    {
     "name": "stdout",
     "output_type": "stream",
     "text": [
      "CUDA is available. You have an NVIDIA GPU.\n"
     ]
    }
   ],
   "execution_count": 4
  },
  {
   "cell_type": "code",
   "metadata": {
    "collapsed": false,
    "ExecuteTime": {
     "end_time": "2024-07-22T07:55:52.518751Z",
     "start_time": "2024-07-22T07:55:50.076846Z"
    }
   },
   "source": [
    "print(f'PyTorch version: {torch.__version__}\\n')\n",
    "\n",
    "print(f'_CUDA version: ')\n",
    "!nvcc --version\n",
    "print()\n",
    "\n",
    "print(f'CUDNN version: {torch.backends.cudnn.version()}')\n",
    "print(f'Available GPU devices: {torch.cuda.device_count()}\\n')\n",
    "\n",
    "\n",
    "print(f'GPU Name: {torch.cuda.get_device_name()}')"
   ],
   "outputs": [
    {
     "name": "stdout",
     "output_type": "stream",
     "text": [
      "PyTorch version: 1.13.1+cu116\n",
      "\n",
      "_CUDA version: \n",
      "nvcc: NVIDIA (R) Cuda compiler driver\n",
      "CUDNN version: 8302\n",
      "\n",
      "Copyright (c) 2005-2021 NVIDIA Corporation\n",
      "Built on Fri_Dec_17_18:28:54_Pacific_Standard_Time_2021\n",
      "Cuda compilation tools, release 11.6, V11.6.55\n",
      "Build cuda_11.6.r11.6/compiler.30794723_0\n",
      "Available GPU devices: 1\n",
      "\n"
     ]
    },
    {
     "ename": "DeferredCudaCallError",
     "evalue": "CUDA call failed lazily at initialization with error: module 'torch' has no attribute 'version'\n\nCUDA call was originally invoked at:\n\n['  File \"C:\\\\Program Files\\\\Python310\\\\lib\\\\runpy.py\", line 196, in _run_module_as_main\\n    return _run_code(code, main_globals, None,\\n', '  File \"C:\\\\Program Files\\\\Python310\\\\lib\\\\runpy.py\", line 86, in _run_code\\n    exec(code, run_globals)\\n', '  File \"C:\\\\Users\\\\CP1\\\\Desktop\\\\GLE-Billing\\\\venv\\\\lib\\\\site-packages\\\\ipykernel_launcher.py\", line 18, in <module>\\n    app.launch_new_instance()\\n', '  File \"C:\\\\Users\\\\CP1\\\\Desktop\\\\GLE-Billing\\\\venv\\\\lib\\\\site-packages\\\\traitlets\\\\config\\\\application.py\", line 1075, in launch_instance\\n    app.start()\\n', '  File \"C:\\\\Users\\\\CP1\\\\Desktop\\\\GLE-Billing\\\\venv\\\\lib\\\\site-packages\\\\ipykernel\\\\kernelapp.py\", line 739, in start\\n    self.io_loop.start()\\n', '  File \"C:\\\\Users\\\\CP1\\\\Desktop\\\\GLE-Billing\\\\venv\\\\lib\\\\site-packages\\\\tornado\\\\platform\\\\asyncio.py\", line 205, in start\\n    self.asyncio_loop.run_forever()\\n', '  File \"C:\\\\Program Files\\\\Python310\\\\lib\\\\asyncio\\\\base_events.py\", line 603, in run_forever\\n    self._run_once()\\n', '  File \"C:\\\\Program Files\\\\Python310\\\\lib\\\\asyncio\\\\base_events.py\", line 1909, in _run_once\\n    handle._run()\\n', '  File \"C:\\\\Program Files\\\\Python310\\\\lib\\\\asyncio\\\\events.py\", line 80, in _run\\n    self._context.run(self._callback, *self._args)\\n', '  File \"C:\\\\Users\\\\CP1\\\\Desktop\\\\GLE-Billing\\\\venv\\\\lib\\\\site-packages\\\\ipykernel\\\\kernelbase.py\", line 545, in dispatch_queue\\n    await self.process_one()\\n', '  File \"C:\\\\Users\\\\CP1\\\\Desktop\\\\GLE-Billing\\\\venv\\\\lib\\\\site-packages\\\\ipykernel\\\\kernelbase.py\", line 534, in process_one\\n    await dispatch(*args)\\n', '  File \"C:\\\\Users\\\\CP1\\\\Desktop\\\\GLE-Billing\\\\venv\\\\lib\\\\site-packages\\\\ipykernel\\\\kernelbase.py\", line 437, in dispatch_shell\\n    await result\\n', '  File \"C:\\\\Users\\\\CP1\\\\Desktop\\\\GLE-Billing\\\\venv\\\\lib\\\\site-packages\\\\ipykernel\\\\ipkernel.py\", line 362, in execute_request\\n    await super().execute_request(stream, ident, parent)\\n', '  File \"C:\\\\Users\\\\CP1\\\\Desktop\\\\GLE-Billing\\\\venv\\\\lib\\\\site-packages\\\\ipykernel\\\\kernelbase.py\", line 778, in execute_request\\n    reply_content = await reply_content\\n', '  File \"C:\\\\Users\\\\CP1\\\\Desktop\\\\GLE-Billing\\\\venv\\\\lib\\\\site-packages\\\\ipykernel\\\\ipkernel.py\", line 449, in do_execute\\n    res = shell.run_cell(\\n', '  File \"C:\\\\Users\\\\CP1\\\\Desktop\\\\GLE-Billing\\\\venv\\\\lib\\\\site-packages\\\\ipykernel\\\\zmqshell.py\", line 549, in run_cell\\n    return super().run_cell(*args, **kwargs)\\n', '  File \"C:\\\\Users\\\\CP1\\\\Desktop\\\\GLE-Billing\\\\venv\\\\lib\\\\site-packages\\\\IPython\\\\core\\\\interactiveshell.py\", line 3075, in run_cell\\n    result = self._run_cell(\\n', '  File \"C:\\\\Users\\\\CP1\\\\Desktop\\\\GLE-Billing\\\\venv\\\\lib\\\\site-packages\\\\IPython\\\\core\\\\interactiveshell.py\", line 3130, in _run_cell\\n    result = runner(coro)\\n', '  File \"C:\\\\Users\\\\CP1\\\\Desktop\\\\GLE-Billing\\\\venv\\\\lib\\\\site-packages\\\\IPython\\\\core\\\\async_helpers.py\", line 128, in _pseudo_sync_runner\\n    coro.send(None)\\n', '  File \"C:\\\\Users\\\\CP1\\\\Desktop\\\\GLE-Billing\\\\venv\\\\lib\\\\site-packages\\\\IPython\\\\core\\\\interactiveshell.py\", line 3334, in run_cell_async\\n    has_raised = await self.run_ast_nodes(code_ast.body, cell_name,\\n', '  File \"C:\\\\Users\\\\CP1\\\\Desktop\\\\GLE-Billing\\\\venv\\\\lib\\\\site-packages\\\\IPython\\\\core\\\\interactiveshell.py\", line 3517, in run_ast_nodes\\n    if await self.run_code(code, result, async_=asy):\\n', '  File \"C:\\\\Users\\\\CP1\\\\Desktop\\\\GLE-Billing\\\\venv\\\\lib\\\\site-packages\\\\IPython\\\\core\\\\interactiveshell.py\", line 3577, in run_code\\n    exec(code_obj, self.user_global_ns, self.user_ns)\\n', '  File \"C:\\\\Users\\\\CP1\\\\AppData\\\\Local\\\\Temp\\\\ipykernel_17600\\\\3526691488.py\", line 1, in <module>\\n    import torch\\n', '  File \"<frozen importlib._bootstrap>\", line 1027, in _find_and_load\\n', '  File \"<frozen importlib._bootstrap>\", line 1006, in _find_and_load_unlocked\\n', '  File \"<frozen importlib._bootstrap>\", line 688, in _load_unlocked\\n', '  File \"<frozen importlib._bootstrap_external>\", line 883, in exec_module\\n', '  File \"<frozen importlib._bootstrap>\", line 241, in _call_with_frames_removed\\n', '  File \"C:\\\\Users\\\\CP1\\\\Desktop\\\\GLE-Billing\\\\venv\\\\lib\\\\site-packages\\\\torch\\\\__init__.py\", line 798, in <module>\\n    _C._initExtension(manager_path())\\n', '  File \"<frozen importlib._bootstrap>\", line 1027, in _find_and_load\\n', '  File \"<frozen importlib._bootstrap>\", line 1006, in _find_and_load_unlocked\\n', '  File \"<frozen importlib._bootstrap>\", line 688, in _load_unlocked\\n', '  File \"<frozen importlib._bootstrap_external>\", line 883, in exec_module\\n', '  File \"<frozen importlib._bootstrap>\", line 241, in _call_with_frames_removed\\n', '  File \"C:\\\\Users\\\\CP1\\\\Desktop\\\\GLE-Billing\\\\venv\\\\lib\\\\site-packages\\\\torch\\\\cuda\\\\__init__.py\", line 179, in <module>\\n    _lazy_call(_check_capability)\\n', '  File \"C:\\\\Users\\\\CP1\\\\Desktop\\\\GLE-Billing\\\\venv\\\\lib\\\\site-packages\\\\torch\\\\cuda\\\\__init__.py\", line 177, in _lazy_call\\n    _queued_calls.append((callable, traceback.format_stack()))\\n']",
     "output_type": "error",
     "traceback": [
      "\u001B[1;31m---------------------------------------------------------------------------\u001B[0m",
      "\u001B[1;31mAttributeError\u001B[0m                            Traceback (most recent call last)",
      "File \u001B[1;32m~\\Desktop\\GLE-Billing\\venv\\lib\\site-packages\\torch\\cuda\\__init__.py:242\u001B[0m, in \u001B[0;36m_lazy_init\u001B[1;34m()\u001B[0m\n\u001B[0;32m    241\u001B[0m \u001B[38;5;28;01mtry\u001B[39;00m:\n\u001B[1;32m--> 242\u001B[0m     \u001B[43mqueued_call\u001B[49m\u001B[43m(\u001B[49m\u001B[43m)\u001B[49m\n\u001B[0;32m    243\u001B[0m \u001B[38;5;28;01mexcept\u001B[39;00m \u001B[38;5;167;01mException\u001B[39;00m \u001B[38;5;28;01mas\u001B[39;00m e:\n",
      "File \u001B[1;32m~\\Desktop\\GLE-Billing\\venv\\lib\\site-packages\\torch\\cuda\\__init__.py:122\u001B[0m, in \u001B[0;36m_check_capability\u001B[1;34m()\u001B[0m\n\u001B[0;32m    116\u001B[0m old_gpu_warn \u001B[38;5;241m=\u001B[39m \u001B[38;5;124m\"\"\"\u001B[39m\n\u001B[0;32m    117\u001B[0m \u001B[38;5;124mFound GPU\u001B[39m\u001B[38;5;132;01m%d\u001B[39;00m\u001B[38;5;124m \u001B[39m\u001B[38;5;132;01m%s\u001B[39;00m\u001B[38;5;124m which is of cuda capability \u001B[39m\u001B[38;5;132;01m%d\u001B[39;00m\u001B[38;5;124m.\u001B[39m\u001B[38;5;132;01m%d\u001B[39;00m\u001B[38;5;124m.\u001B[39m\n\u001B[0;32m    118\u001B[0m \u001B[38;5;124mPyTorch no longer supports this GPU because it is too old.\u001B[39m\n\u001B[0;32m    119\u001B[0m \u001B[38;5;124mThe minimum cuda capability supported by this library is \u001B[39m\u001B[38;5;132;01m%d\u001B[39;00m\u001B[38;5;124m.\u001B[39m\u001B[38;5;132;01m%d\u001B[39;00m\u001B[38;5;124m.\u001B[39m\n\u001B[0;32m    120\u001B[0m \u001B[38;5;124m\u001B[39m\u001B[38;5;124m\"\"\"\u001B[39m\n\u001B[1;32m--> 122\u001B[0m \u001B[38;5;28;01mif\u001B[39;00m \u001B[43mtorch\u001B[49m\u001B[38;5;241;43m.\u001B[39;49m\u001B[43mversion\u001B[49m\u001B[38;5;241m.\u001B[39mcuda \u001B[38;5;129;01mis\u001B[39;00m \u001B[38;5;129;01mnot\u001B[39;00m \u001B[38;5;28;01mNone\u001B[39;00m:  \u001B[38;5;66;03m# on ROCm we don't want this check\u001B[39;00m\n\u001B[0;32m    123\u001B[0m     CUDA_VERSION \u001B[38;5;241m=\u001B[39m torch\u001B[38;5;241m.\u001B[39m_C\u001B[38;5;241m.\u001B[39m_cuda_getCompiledVersion()\n",
      "\u001B[1;31mAttributeError\u001B[0m: module 'torch' has no attribute 'version'",
      "\nThe above exception was the direct cause of the following exception:\n",
      "\u001B[1;31mDeferredCudaCallError\u001B[0m                     Traceback (most recent call last)",
      "Cell \u001B[1;32mIn[5], line 11\u001B[0m\n\u001B[0;32m      7\u001B[0m \u001B[38;5;28mprint\u001B[39m(\u001B[38;5;124mf\u001B[39m\u001B[38;5;124m'\u001B[39m\u001B[38;5;124mCUDNN version: \u001B[39m\u001B[38;5;132;01m{\u001B[39;00mtorch\u001B[38;5;241m.\u001B[39mbackends\u001B[38;5;241m.\u001B[39mcudnn\u001B[38;5;241m.\u001B[39mversion()\u001B[38;5;132;01m}\u001B[39;00m\u001B[38;5;124m'\u001B[39m)\n\u001B[0;32m      8\u001B[0m \u001B[38;5;28mprint\u001B[39m(\u001B[38;5;124mf\u001B[39m\u001B[38;5;124m'\u001B[39m\u001B[38;5;124mAvailable GPU devices: \u001B[39m\u001B[38;5;132;01m{\u001B[39;00mtorch\u001B[38;5;241m.\u001B[39mcuda\u001B[38;5;241m.\u001B[39mdevice_count()\u001B[38;5;132;01m}\u001B[39;00m\u001B[38;5;130;01m\\n\u001B[39;00m\u001B[38;5;124m'\u001B[39m)\n\u001B[1;32m---> 11\u001B[0m \u001B[38;5;28mprint\u001B[39m(\u001B[38;5;124mf\u001B[39m\u001B[38;5;124m'\u001B[39m\u001B[38;5;124mGPU Name: \u001B[39m\u001B[38;5;132;01m{\u001B[39;00m\u001B[43mtorch\u001B[49m\u001B[38;5;241;43m.\u001B[39;49m\u001B[43mcuda\u001B[49m\u001B[38;5;241;43m.\u001B[39;49m\u001B[43mget_device_name\u001B[49m\u001B[43m(\u001B[49m\u001B[43m)\u001B[49m\u001B[38;5;132;01m}\u001B[39;00m\u001B[38;5;124m'\u001B[39m)\n",
      "File \u001B[1;32m~\\Desktop\\GLE-Billing\\venv\\lib\\site-packages\\torch\\cuda\\__init__.py:341\u001B[0m, in \u001B[0;36mget_device_name\u001B[1;34m(device)\u001B[0m\n\u001B[0;32m    329\u001B[0m \u001B[38;5;28;01mdef\u001B[39;00m \u001B[38;5;21mget_device_name\u001B[39m(device: Optional[_device_t] \u001B[38;5;241m=\u001B[39m \u001B[38;5;28;01mNone\u001B[39;00m) \u001B[38;5;241m-\u001B[39m\u001B[38;5;241m>\u001B[39m \u001B[38;5;28mstr\u001B[39m:\n\u001B[0;32m    330\u001B[0m \u001B[38;5;250m    \u001B[39m\u001B[38;5;124mr\u001B[39m\u001B[38;5;124;03m\"\"\"Gets the name of a device.\u001B[39;00m\n\u001B[0;32m    331\u001B[0m \n\u001B[0;32m    332\u001B[0m \u001B[38;5;124;03m    Args:\u001B[39;00m\n\u001B[1;32m   (...)\u001B[0m\n\u001B[0;32m    339\u001B[0m \u001B[38;5;124;03m        str: the name of the device\u001B[39;00m\n\u001B[0;32m    340\u001B[0m \u001B[38;5;124;03m    \"\"\"\u001B[39;00m\n\u001B[1;32m--> 341\u001B[0m     \u001B[38;5;28;01mreturn\u001B[39;00m \u001B[43mget_device_properties\u001B[49m\u001B[43m(\u001B[49m\u001B[43mdevice\u001B[49m\u001B[43m)\u001B[49m\u001B[38;5;241m.\u001B[39mname\n",
      "File \u001B[1;32m~\\Desktop\\GLE-Billing\\venv\\lib\\site-packages\\torch\\cuda\\__init__.py:371\u001B[0m, in \u001B[0;36mget_device_properties\u001B[1;34m(device)\u001B[0m\n\u001B[0;32m    361\u001B[0m \u001B[38;5;28;01mdef\u001B[39;00m \u001B[38;5;21mget_device_properties\u001B[39m(device: _device_t) \u001B[38;5;241m-\u001B[39m\u001B[38;5;241m>\u001B[39m _CudaDeviceProperties:\n\u001B[0;32m    362\u001B[0m \u001B[38;5;250m    \u001B[39m\u001B[38;5;124mr\u001B[39m\u001B[38;5;124;03m\"\"\"Gets the properties of a device.\u001B[39;00m\n\u001B[0;32m    363\u001B[0m \n\u001B[0;32m    364\u001B[0m \u001B[38;5;124;03m    Args:\u001B[39;00m\n\u001B[1;32m   (...)\u001B[0m\n\u001B[0;32m    369\u001B[0m \u001B[38;5;124;03m        _CudaDeviceProperties: the properties of the device\u001B[39;00m\n\u001B[0;32m    370\u001B[0m \u001B[38;5;124;03m    \"\"\"\u001B[39;00m\n\u001B[1;32m--> 371\u001B[0m     \u001B[43m_lazy_init\u001B[49m\u001B[43m(\u001B[49m\u001B[43m)\u001B[49m  \u001B[38;5;66;03m# will define _get_device_properties\u001B[39;00m\n\u001B[0;32m    372\u001B[0m     device \u001B[38;5;241m=\u001B[39m _get_device_index(device, optional\u001B[38;5;241m=\u001B[39m\u001B[38;5;28;01mTrue\u001B[39;00m)\n\u001B[0;32m    373\u001B[0m     \u001B[38;5;28;01mif\u001B[39;00m device \u001B[38;5;241m<\u001B[39m \u001B[38;5;241m0\u001B[39m \u001B[38;5;129;01mor\u001B[39;00m device \u001B[38;5;241m>\u001B[39m\u001B[38;5;241m=\u001B[39m device_count():\n",
      "File \u001B[1;32m~\\Desktop\\GLE-Billing\\venv\\lib\\site-packages\\torch\\cuda\\__init__.py:246\u001B[0m, in \u001B[0;36m_lazy_init\u001B[1;34m()\u001B[0m\n\u001B[0;32m    243\u001B[0m         \u001B[38;5;28;01mexcept\u001B[39;00m \u001B[38;5;167;01mException\u001B[39;00m \u001B[38;5;28;01mas\u001B[39;00m e:\n\u001B[0;32m    244\u001B[0m             msg \u001B[38;5;241m=\u001B[39m (\u001B[38;5;124mf\u001B[39m\u001B[38;5;124m\"\u001B[39m\u001B[38;5;124mCUDA call failed lazily at initialization with error: \u001B[39m\u001B[38;5;132;01m{\u001B[39;00m\u001B[38;5;28mstr\u001B[39m(e)\u001B[38;5;132;01m}\u001B[39;00m\u001B[38;5;130;01m\\n\u001B[39;00m\u001B[38;5;130;01m\\n\u001B[39;00m\u001B[38;5;124m\"\u001B[39m\n\u001B[0;32m    245\u001B[0m                    \u001B[38;5;124mf\u001B[39m\u001B[38;5;124m\"\u001B[39m\u001B[38;5;124mCUDA call was originally invoked at:\u001B[39m\u001B[38;5;130;01m\\n\u001B[39;00m\u001B[38;5;130;01m\\n\u001B[39;00m\u001B[38;5;132;01m{\u001B[39;00morig_traceback\u001B[38;5;132;01m}\u001B[39;00m\u001B[38;5;124m\"\u001B[39m)\n\u001B[1;32m--> 246\u001B[0m             \u001B[38;5;28;01mraise\u001B[39;00m DeferredCudaCallError(msg) \u001B[38;5;28;01mfrom\u001B[39;00m \u001B[38;5;21;01me\u001B[39;00m\n\u001B[0;32m    247\u001B[0m \u001B[38;5;28;01mfinally\u001B[39;00m:\n\u001B[0;32m    248\u001B[0m     \u001B[38;5;28mdelattr\u001B[39m(_tls, \u001B[38;5;124m'\u001B[39m\u001B[38;5;124mis_initializing\u001B[39m\u001B[38;5;124m'\u001B[39m)\n",
      "\u001B[1;31mDeferredCudaCallError\u001B[0m: CUDA call failed lazily at initialization with error: module 'torch' has no attribute 'version'\n\nCUDA call was originally invoked at:\n\n['  File \"C:\\\\Program Files\\\\Python310\\\\lib\\\\runpy.py\", line 196, in _run_module_as_main\\n    return _run_code(code, main_globals, None,\\n', '  File \"C:\\\\Program Files\\\\Python310\\\\lib\\\\runpy.py\", line 86, in _run_code\\n    exec(code, run_globals)\\n', '  File \"C:\\\\Users\\\\CP1\\\\Desktop\\\\GLE-Billing\\\\venv\\\\lib\\\\site-packages\\\\ipykernel_launcher.py\", line 18, in <module>\\n    app.launch_new_instance()\\n', '  File \"C:\\\\Users\\\\CP1\\\\Desktop\\\\GLE-Billing\\\\venv\\\\lib\\\\site-packages\\\\traitlets\\\\config\\\\application.py\", line 1075, in launch_instance\\n    app.start()\\n', '  File \"C:\\\\Users\\\\CP1\\\\Desktop\\\\GLE-Billing\\\\venv\\\\lib\\\\site-packages\\\\ipykernel\\\\kernelapp.py\", line 739, in start\\n    self.io_loop.start()\\n', '  File \"C:\\\\Users\\\\CP1\\\\Desktop\\\\GLE-Billing\\\\venv\\\\lib\\\\site-packages\\\\tornado\\\\platform\\\\asyncio.py\", line 205, in start\\n    self.asyncio_loop.run_forever()\\n', '  File \"C:\\\\Program Files\\\\Python310\\\\lib\\\\asyncio\\\\base_events.py\", line 603, in run_forever\\n    self._run_once()\\n', '  File \"C:\\\\Program Files\\\\Python310\\\\lib\\\\asyncio\\\\base_events.py\", line 1909, in _run_once\\n    handle._run()\\n', '  File \"C:\\\\Program Files\\\\Python310\\\\lib\\\\asyncio\\\\events.py\", line 80, in _run\\n    self._context.run(self._callback, *self._args)\\n', '  File \"C:\\\\Users\\\\CP1\\\\Desktop\\\\GLE-Billing\\\\venv\\\\lib\\\\site-packages\\\\ipykernel\\\\kernelbase.py\", line 545, in dispatch_queue\\n    await self.process_one()\\n', '  File \"C:\\\\Users\\\\CP1\\\\Desktop\\\\GLE-Billing\\\\venv\\\\lib\\\\site-packages\\\\ipykernel\\\\kernelbase.py\", line 534, in process_one\\n    await dispatch(*args)\\n', '  File \"C:\\\\Users\\\\CP1\\\\Desktop\\\\GLE-Billing\\\\venv\\\\lib\\\\site-packages\\\\ipykernel\\\\kernelbase.py\", line 437, in dispatch_shell\\n    await result\\n', '  File \"C:\\\\Users\\\\CP1\\\\Desktop\\\\GLE-Billing\\\\venv\\\\lib\\\\site-packages\\\\ipykernel\\\\ipkernel.py\", line 362, in execute_request\\n    await super().execute_request(stream, ident, parent)\\n', '  File \"C:\\\\Users\\\\CP1\\\\Desktop\\\\GLE-Billing\\\\venv\\\\lib\\\\site-packages\\\\ipykernel\\\\kernelbase.py\", line 778, in execute_request\\n    reply_content = await reply_content\\n', '  File \"C:\\\\Users\\\\CP1\\\\Desktop\\\\GLE-Billing\\\\venv\\\\lib\\\\site-packages\\\\ipykernel\\\\ipkernel.py\", line 449, in do_execute\\n    res = shell.run_cell(\\n', '  File \"C:\\\\Users\\\\CP1\\\\Desktop\\\\GLE-Billing\\\\venv\\\\lib\\\\site-packages\\\\ipykernel\\\\zmqshell.py\", line 549, in run_cell\\n    return super().run_cell(*args, **kwargs)\\n', '  File \"C:\\\\Users\\\\CP1\\\\Desktop\\\\GLE-Billing\\\\venv\\\\lib\\\\site-packages\\\\IPython\\\\core\\\\interactiveshell.py\", line 3075, in run_cell\\n    result = self._run_cell(\\n', '  File \"C:\\\\Users\\\\CP1\\\\Desktop\\\\GLE-Billing\\\\venv\\\\lib\\\\site-packages\\\\IPython\\\\core\\\\interactiveshell.py\", line 3130, in _run_cell\\n    result = runner(coro)\\n', '  File \"C:\\\\Users\\\\CP1\\\\Desktop\\\\GLE-Billing\\\\venv\\\\lib\\\\site-packages\\\\IPython\\\\core\\\\async_helpers.py\", line 128, in _pseudo_sync_runner\\n    coro.send(None)\\n', '  File \"C:\\\\Users\\\\CP1\\\\Desktop\\\\GLE-Billing\\\\venv\\\\lib\\\\site-packages\\\\IPython\\\\core\\\\interactiveshell.py\", line 3334, in run_cell_async\\n    has_raised = await self.run_ast_nodes(code_ast.body, cell_name,\\n', '  File \"C:\\\\Users\\\\CP1\\\\Desktop\\\\GLE-Billing\\\\venv\\\\lib\\\\site-packages\\\\IPython\\\\core\\\\interactiveshell.py\", line 3517, in run_ast_nodes\\n    if await self.run_code(code, result, async_=asy):\\n', '  File \"C:\\\\Users\\\\CP1\\\\Desktop\\\\GLE-Billing\\\\venv\\\\lib\\\\site-packages\\\\IPython\\\\core\\\\interactiveshell.py\", line 3577, in run_code\\n    exec(code_obj, self.user_global_ns, self.user_ns)\\n', '  File \"C:\\\\Users\\\\CP1\\\\AppData\\\\Local\\\\Temp\\\\ipykernel_17600\\\\3526691488.py\", line 1, in <module>\\n    import torch\\n', '  File \"<frozen importlib._bootstrap>\", line 1027, in _find_and_load\\n', '  File \"<frozen importlib._bootstrap>\", line 1006, in _find_and_load_unlocked\\n', '  File \"<frozen importlib._bootstrap>\", line 688, in _load_unlocked\\n', '  File \"<frozen importlib._bootstrap_external>\", line 883, in exec_module\\n', '  File \"<frozen importlib._bootstrap>\", line 241, in _call_with_frames_removed\\n', '  File \"C:\\\\Users\\\\CP1\\\\Desktop\\\\GLE-Billing\\\\venv\\\\lib\\\\site-packages\\\\torch\\\\__init__.py\", line 798, in <module>\\n    _C._initExtension(manager_path())\\n', '  File \"<frozen importlib._bootstrap>\", line 1027, in _find_and_load\\n', '  File \"<frozen importlib._bootstrap>\", line 1006, in _find_and_load_unlocked\\n', '  File \"<frozen importlib._bootstrap>\", line 688, in _load_unlocked\\n', '  File \"<frozen importlib._bootstrap_external>\", line 883, in exec_module\\n', '  File \"<frozen importlib._bootstrap>\", line 241, in _call_with_frames_removed\\n', '  File \"C:\\\\Users\\\\CP1\\\\Desktop\\\\GLE-Billing\\\\venv\\\\lib\\\\site-packages\\\\torch\\\\cuda\\\\__init__.py\", line 179, in <module>\\n    _lazy_call(_check_capability)\\n', '  File \"C:\\\\Users\\\\CP1\\\\Desktop\\\\GLE-Billing\\\\venv\\\\lib\\\\site-packages\\\\torch\\\\cuda\\\\__init__.py\", line 177, in _lazy_call\\n    _queued_calls.append((callable, traceback.format_stack()))\\n']"
     ]
    }
   ],
   "execution_count": 5
  },
  {
   "cell_type": "code",
   "source": [
    "import sys\n",
    "sys.version"
   ],
   "metadata": {
    "collapsed": false,
    "ExecuteTime": {
     "end_time": "2024-07-22T07:55:56.470664Z",
     "start_time": "2024-07-22T07:55:56.450664Z"
    }
   },
   "outputs": [
    {
     "data": {
      "text/plain": [
       "'3.10.10 (tags/v3.10.10:aad5f6a, Feb  7 2023, 17:20:36) [MSC v.1929 64 bit (AMD64)]'"
      ]
     },
     "execution_count": 6,
     "metadata": {},
     "output_type": "execute_result"
    }
   ],
   "execution_count": 6
  },
  {
   "metadata": {},
   "cell_type": "code",
   "outputs": [],
   "execution_count": null,
   "source": ""
  }
 ],
 "metadata": {
  "kernelspec": {
   "name": "python3",
   "language": "python",
   "display_name": "Python 3 (ipykernel)"
  },
  "language_info": {
   "codemirror_mode": {
    "name": "ipython",
    "version": 3
   },
   "file_extension": ".py",
   "mimetype": "text/x-python",
   "name": "python",
   "nbconvert_exporter": "python",
   "pygments_lexer": "ipython3",
   "version": "3.10.10"
  }
 },
 "nbformat": 4,
 "nbformat_minor": 4
}
